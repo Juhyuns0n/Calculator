{
  "nbformat": 4,
  "nbformat_minor": 0,
  "metadata": {
    "colab": {
      "provenance": [],
      "include_colab_link": true
    },
    "kernelspec": {
      "name": "python3",
      "display_name": "Python 3"
    },
    "language_info": {
      "name": "python"
    }
  },
  "cells": [
    {
      "cell_type": "markdown",
      "metadata": {
        "id": "view-in-github",
        "colab_type": "text"
      },
      "source": [
        "<a href=\"https://colab.research.google.com/github/Juhyuns0n/Calculator/blob/master/mnist.ipynb\" target=\"_parent\"><img src=\"https://colab.research.google.com/assets/colab-badge.svg\" alt=\"Open In Colab\"/></a>"
      ]
    },
    {
      "cell_type": "markdown",
      "source": [
        "# 필독\n",
        "---\n",
        "**코딩 테스트 응시 방법**  \n",
        "본 파일은 배포용으로, 사본을 만들어 문제 풀이를 진행해주세요.  \n",
        "\n",
        "**평가 관련**  \n",
        "문제 해결 능력을 중심으로 평가합니다.  \n",
        "구현 시, 예제와 같은 구성을 따를 필요는 없습니다.  \n",
        "필요없다 생각하는 부분을 덜거나, 필요하다 생각하는 부분들을 추가하셔도 됩니다. 완전히 구조가 달라도 상관 없습니다.  \n",
        "\n",
        " 만일 구현에 실패한 부분이 있다면 무엇을 구현하고자 했지만 실패했는지, 구현 의도와 실패한 코드를 남겨주세요.  \n",
        "\n",
        "**제출 양식**\n",
        "- 제목 : [코딩 테스트/단계]이름_ 과 _학번\n",
        "\n",
        "**구현,작업 관리 주의사항**  \n",
        "아래 4가지 규칙을 지켜 구현한 코드와 보고서를 함께 제출해주신 모든 벗들과 면접을 진행할 예정입니다. 꼭 읽고 지켜주세요!\n",
        "\n",
        "- 📍**딥러닝 프레임워크는 pytorch를 사용해주세요.**\n",
        "- 📍**코드 설명을 달아주세요.**\n",
        "- 📍**코드 출력을 지우지 말고 제출해주세요.**\n",
        "- 📍**공유 권한을 설정해주세요.**\n"
      ],
      "metadata": {
        "id": "aPDBzUqpOA_v"
      }
    },
    {
      "cell_type": "markdown",
      "source": [
        "# MNIST DataSet에 대하여\n",
        "---\n",
        "MNIST dataset은 28x28 규격의 흑백 이미지 데이터 셋입니다. 이 데이터 셋은 0부터 9까지 10개의 라벨이 존재하며 이미지 학습의 대표적인 예제입니다.  \n",
        "MNIST dataset은 `pytorch.vision`이나 인터넷을 통해 다운 받아 이용할 수 있습니다."
      ],
      "metadata": {
        "id": "e6xmr_3Ph79Q"
      }
    },
    {
      "cell_type": "markdown",
      "source": [
        "![image.png](data:image/png;base64,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)"
      ],
      "metadata": {
        "id": "idQN8SP_iTh0"
      }
    },
    {
      "cell_type": "markdown",
      "source": [
        "### [📕 [강화 시스터즈 1기] 01 단계 코딩 테스트 예제](https://colab.research.google.com/drive/1H7KA3WD9U2ueMfYLaQvI_sVaX09pccjN?usp=sharing)"
      ],
      "metadata": {
        "id": "mX-QxSV6jIdg"
      }
    },
    {
      "cell_type": "markdown",
      "source": [
        "# MNIST 데이터 셋 학습시키기"
      ],
      "metadata": {
        "id": "tpNgK_kaN6Pd"
      }
    },
    {
      "cell_type": "code",
      "execution_count": 1,
      "metadata": {
        "id": "8Zufu3SOKuEf"
      },
      "outputs": [],
      "source": [
        "import matplotlib.pyplot as plt\n",
        "import seaborn as sns\n",
        "import random\n",
        "import numpy as np  #tensor 이용\n",
        "import pandas as pd\n",
        "\n",
        "import torch  #tensor 이용\n",
        "from torch import nn\n",
        "from torch.utils.data import DataLoader\n",
        "from torchvision import datasets  #MNIST dataset 내장, 대부분 이미지와 라벨 반환\n",
        "from torchvision.transforms import ToTensor"
      ]
    },
    {
      "cell_type": "code",
      "source": [
        "# Download training data from open datasets.\n",
        "training_data = datasets.MNIST(\n",
        "    root=\"data\",  #데이터가 저장된 path\n",
        "    train=True,   #train/test 여부\n",
        "    download=True,  #root에 없을때 인터넷에서 다운로드\n",
        "    transform=ToTensor(), #이미지를 FloatTensor로 변환\n",
        ")\n",
        "\n",
        "# Download test data from open datasets.\n",
        "test_data = datasets.MNIST(  #torchvision.datasets.FashionMNIST 인스턴스 반환\n",
        "    root=\"data\",\n",
        "    train=False,\n",
        "    download=True,\n",
        "    transform=ToTensor(),\n",
        ")"
      ],
      "metadata": {
        "colab": {
          "base_uri": "https://localhost:8080/"
        },
        "id": "AvF4v36gJdgx",
        "outputId": "6c8d87f2-bc5f-4691-a2a6-7356687dce8d"
      },
      "execution_count": 2,
      "outputs": [
        {
          "output_type": "stream",
          "name": "stdout",
          "text": [
            "Downloading http://yann.lecun.com/exdb/mnist/train-images-idx3-ubyte.gz\n",
            "Downloading http://yann.lecun.com/exdb/mnist/train-images-idx3-ubyte.gz to data/MNIST/raw/train-images-idx3-ubyte.gz\n"
          ]
        },
        {
          "output_type": "stream",
          "name": "stderr",
          "text": [
            "100%|██████████| 9912422/9912422 [00:00<00:00, 91528071.60it/s]\n"
          ]
        },
        {
          "output_type": "stream",
          "name": "stdout",
          "text": [
            "Extracting data/MNIST/raw/train-images-idx3-ubyte.gz to data/MNIST/raw\n",
            "\n",
            "Downloading http://yann.lecun.com/exdb/mnist/train-labels-idx1-ubyte.gz\n",
            "Downloading http://yann.lecun.com/exdb/mnist/train-labels-idx1-ubyte.gz to data/MNIST/raw/train-labels-idx1-ubyte.gz\n"
          ]
        },
        {
          "output_type": "stream",
          "name": "stderr",
          "text": [
            "100%|██████████| 28881/28881 [00:00<00:00, 30651744.39it/s]"
          ]
        },
        {
          "output_type": "stream",
          "name": "stdout",
          "text": [
            "Extracting data/MNIST/raw/train-labels-idx1-ubyte.gz to data/MNIST/raw\n",
            "\n",
            "Downloading http://yann.lecun.com/exdb/mnist/t10k-images-idx3-ubyte.gz\n",
            "Downloading http://yann.lecun.com/exdb/mnist/t10k-images-idx3-ubyte.gz to data/MNIST/raw/t10k-images-idx3-ubyte.gz\n"
          ]
        },
        {
          "output_type": "stream",
          "name": "stderr",
          "text": [
            "\n",
            "100%|██████████| 1648877/1648877 [00:00<00:00, 22415329.90it/s]\n"
          ]
        },
        {
          "output_type": "stream",
          "name": "stdout",
          "text": [
            "Extracting data/MNIST/raw/t10k-images-idx3-ubyte.gz to data/MNIST/raw\n",
            "\n",
            "Downloading http://yann.lecun.com/exdb/mnist/t10k-labels-idx1-ubyte.gz\n",
            "Downloading http://yann.lecun.com/exdb/mnist/t10k-labels-idx1-ubyte.gz to data/MNIST/raw/t10k-labels-idx1-ubyte.gz\n"
          ]
        },
        {
          "output_type": "stream",
          "name": "stderr",
          "text": [
            "100%|██████████| 4542/4542 [00:00<00:00, 14744991.31it/s]\n"
          ]
        },
        {
          "output_type": "stream",
          "name": "stdout",
          "text": [
            "Extracting data/MNIST/raw/t10k-labels-idx1-ubyte.gz to data/MNIST/raw\n",
            "\n"
          ]
        }
      ]
    },
    {
      "cell_type": "code",
      "source": [
        "classes = [\n",
        "    \"0\",\n",
        "    \"1\",\n",
        "    \"2\",\n",
        "    \"3\",\n",
        "    \"4\",\n",
        "    \"5\",\n",
        "    \"6\",\n",
        "    \"7\",\n",
        "    \"8\",\n",
        "    \"9\",\n",
        "]"
      ],
      "metadata": {
        "id": "9sjyN__pJh93"
      },
      "execution_count": 3,
      "outputs": []
    },
    {
      "cell_type": "code",
      "source": [
        "training_data[0][0].shape # 데이터 셋의 데이터 dim : (Channel, Height, Width)"
      ],
      "metadata": {
        "colab": {
          "base_uri": "https://localhost:8080/"
        },
        "id": "9lqjR1PuJtVs",
        "outputId": "9de08292-1c33-4355-8097-cf461476400e"
      },
      "execution_count": 4,
      "outputs": [
        {
          "output_type": "execute_result",
          "data": {
            "text/plain": [
              "torch.Size([1, 28, 28])"
            ]
          },
          "metadata": {},
          "execution_count": 4
        }
      ]
    },
    {
      "cell_type": "code",
      "source": [
        "# 랜덤으로 인덱스를 뽑는다.\n",
        "idx = random.randint(0,len(training_data))\n",
        "\n",
        "img, label = training_data[idx] #데이터셋 인덱싱하여 img, label에 할당\n",
        "\n",
        "img = img.permute(1,2,0) # 이미지의 데이터 dim : (Height, Width, Channel)\n",
        "                        #permute()으로 텐서 차원 재배열, 단일 채널(색상x)\n",
        "plt.imshow(img, cmap='gray')\n",
        "plt.title(classes[int(label)])\n",
        "plt.show()"
      ],
      "metadata": {
        "colab": {
          "base_uri": "https://localhost:8080/",
          "height": 452
        },
        "id": "h4KjVwfGJxSh",
        "outputId": "e7227612-fdd3-4c41-ed00-a94f95e066a5"
      },
      "execution_count": 8,
      "outputs": [
        {
          "output_type": "display_data",
          "data": {
            "text/plain": [
              "<Figure size 640x480 with 1 Axes>"
            ],
            "image/png": "[encoded data removed]"
          },
          "metadata": {}
        }
      ]
    },
    {
      "cell_type": "code",
      "source": [
        "batch_size = 64 #클수록 훈련 안정성,효율성 증가, 너무 크면 그래디언트 불안정 가능성\n",
        "\n",
        "# Create data loaders.\n",
        "trainloader = DataLoader(training_data, batch_size=batch_size)\n",
        "testloader = DataLoader(test_data, batch_size=batch_size)\n",
        "\n",
        "for X, y in testloader:#이미지 배치 X, 레이블 배치 y\n",
        "    print(f\"Shape of X [N, C, H, W]: {X.shape}\") # [64,1,28,28]\n",
        "    print(f\"Shape of y: {y.shape} {y.dtype}\") #1차원 텐서 길이가 64(요소가 64개),각 요소는 64비트 정수형\n",
        "    break"
      ],
      "metadata": {
        "colab": {
          "base_uri": "https://localhost:8080/"
        },
        "id": "miCs4ghCJ4rh",
        "outputId": "bda03b1e-c589-41fa-bb76-576f7e47f9ba"
      },
      "execution_count": 9,
      "outputs": [
        {
          "output_type": "stream",
          "name": "stdout",
          "text": [
            "Shape of X [N, C, H, W]: torch.Size([64, 1, 28, 28])\n",
            "Shape of y: torch.Size([64]) torch.int64\n"
          ]
        }
      ]
    },
    {
      "cell_type": "code",
      "source": [],
      "metadata": {
        "id": "dWMRIwKBLV7m"
      },
      "execution_count": null,
      "outputs": []
    }
  ]
}